{
 "cells": [
  {
   "cell_type": "markdown",
   "metadata": {},
   "source": [
    "### Arsitektur Neuron SOM\n",
    "\n",
    "<img src=\"arsitektur neuron SOM bahasa.png\" width=\"100%\">\n",
    "\n",
    "\n",
    " - Kisi-kisi (radius) neuron ('node') menerima dan merespon untuk mengatur sinyal input\n",
    " - Tanggapan dibandingkan; Neuron ‘kemenangan’ dipilih dari kisi \n",
    " - Neuron yang dipilih diaktifkan bersama dengan neuron 'lingkungan / tetangga' \n",
    " - Proses adaptif mengubah bobot menjadi lebih mirip input\n",
    " - Tidak ada interkoneksi antar node komputasi (koneksi di dalam kisi tidak ada).\n",
    " - Jumlah simpul tiap neuron pd kisi dari input ditentukan oleh dimensi dari vektor input."
   ]
  },
  {
   "cell_type": "markdown",
   "metadata": {},
   "source": [
    "#### representasi data\n",
    "\n",
    " - Bobot Vektor memiliki dimensi yang sama dengan vektor input. \n",
    " - Jika data (training) pelatihan terdiri dari vektor, V, dengan n dimensi: V1 , V2 , V3 ... Vn \n",
    " - Kemudian setiap edges akan berisi vektor bobot W yang sesuai , dari n dimensi: W1, W2, W3 ... Wn\n",
    " \n",
    " <img src=\"sample_neuron.png\" width=\"80%\">"
   ]
  },
  {
   "cell_type": "markdown",
   "metadata": {},
   "source": [
    " <img src=\"SOM.gif\" width=\"75%\">\n",
    " \n",
    " #### semua input terkoneksikan dengan neuron kisi\n",
    "  <img src=\"SOM.jpeg\" width=\"30%\">"
   ]
  },
  {
   "cell_type": "markdown",
   "metadata": {},
   "source": [
    "### Istilah yang digunakan dalam SOMs\n",
    "\n",
    " - `kuantisasi vektor` - Teknik kompresi data. SOM menyediakan cara untuk merepresentasikan data multidimensi dalam ruang dimensi yang jauh lebih rendah; biasanya satu atau dua dimensi\n",
    " - `Neighbourhood / tetangga (lingkungan terdekat)`\n",
    " - `Output space (ruang output / dimensi vektor output)`\n",
    " - `Input space (ruang input / dimensi vektor input)`"
   ]
  },
  {
   "cell_type": "markdown",
   "metadata": {},
   "source": [
    "## Algoritma Pembelajaran\n",
    "\n",
    " - Inisialisasi bobot (weight)\n",
    "     - Acak (inisialisasi acak) \n",
    "     - Pregenerated (inisialisasi dari pengaturan bobot sebelumnya)\n",
    " - Iterasi melalui input\n",
    " - Untuk setiap input, penentuan neuron \"pemenang\" (winning neuron) \n",
    "     - Euclidean distance (Pengukuran jarak euclid) \n",
    " - Penyesuaian neuron \"menang\" (winning Neuron) dan tetangganya \n",
    "     - Dengan Metode Gaussian\n",
    "     - atau , Metode Mexican Hat"
   ]
  },
  {
   "cell_type": "markdown",
   "metadata": {},
   "source": [
    "### PENJELASAN : Bagaimana SOM Kohonen bekerja pada Algoritma SOM\n",
    "\n",
    " - Algoritma Self-Organizing Map dapat dipecah menjadi 6 langkah\n",
    "  \n",
    "  1). Setiap bobot (weight) node diinisialisasi.\n",
    "  \n",
    "  2). Sebuah vektor dipilih secara acak dari himpunan data pelatihan dan direpresentasikan ke jaringan Neuron.\n",
    "  \n",
    "  3). Setiap node dalam jaringan diperiksa untuk dihitung yang mana bobot yang paling mendekati seperti vektor input. Node kemenangan (winning node) umumnya dikenal sebagai Satuan Pencocokan Terbaik (BMU) Best Matching Unit."
   ]
  },
  {
   "cell_type": "code",
   "execution_count": 1,
   "metadata": {},
   "outputs": [],
   "source": [
    "import minisom"
   ]
  },
  {
   "cell_type": "code",
   "execution_count": null,
   "metadata": {},
   "outputs": [],
   "source": []
  }
 ],
 "metadata": {
  "kernelspec": {
   "display_name": "Python 3",
   "language": "python",
   "name": "python3"
  },
  "language_info": {
   "codemirror_mode": {
    "name": "ipython",
    "version": 3
   },
   "file_extension": ".py",
   "mimetype": "text/x-python",
   "name": "python",
   "nbconvert_exporter": "python",
   "pygments_lexer": "ipython3",
   "version": "3.6.5"
  }
 },
 "nbformat": 4,
 "nbformat_minor": 2
}
