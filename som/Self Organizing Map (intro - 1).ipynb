{
 "cells": [
  {
   "cell_type": "markdown",
   "metadata": {},
   "source": [
    "## Self-Organizing Maps : Origins\n",
    "\n",
    "Ide awal pertama kali diperkenalkan oleh C. von der Malsburg (1973), lalu dikembangkan dan disempurnakan oleh T. Kohonen (1982) .\n",
    "\n",
    "Dengan Basis Algoritma Neural network menggunakan pembelajaran kompetitif Unsupervised.\n",
    "SOM digunakan untuk mengorganisasi dan memvisualisasi data yang kompleks . \n",
    "\n",
    "Basis biologis: ‘peta otak’\n",
    "\n",
    "menghasilkan representasi ruang input dari sampel pelatihan yang didefinisi rendah (biasanya dua dimensi), yang disebut peta, dan oleh karenanya merupakan metode untuk melakukan pengurangan dimensi.\n",
    "[dokumentasi wikipedia](https://en.wikipedia.org/wiki/Self-organizing_map)\n",
    "\n",
    "<img src=\"https://upload.wikimedia.org/wikipedia/commons/7/70/Synapse_Self-Organizing_Map.png\" width=\"80%\">\n",
    "\n",
    "Tampak Pengelompokan berdasarkan gradasi warna yang lebih teratur.\n",
    "\n",
    "Komputer mengetahui klasifikasi informasi secara otomatis dan menyatukannya.\n",
    "\n",
    "#### contoh lain\n",
    "\n",
    "<img src=\"dokumentasi_file.png\" width=\"80%\">\n",
    "\n",
    "Objek teks dapat secara otomatis diproduksi dengan hubungan semantik."
   ]
  },
  {
   "cell_type": "markdown",
   "metadata": {},
   "source": [
    "## Apa itu peta pengaturan diri (SOM) ?\n",
    "\n",
    "Apakah Dinamakan \"Self-Organizing\" karena tidak ada pengawasan (supervised method) yang diperlukan.\n",
    "\n",
    "SOM belajar sendiri melalui pembelajaran kompetitif Unsupervised.\n",
    "\n",
    "Mereka mencoba memetakan bobot mereka untuk menyesuaikan dengan input data yang diberikan.\n",
    "\n",
    "Jadi SOM adalah jaringan saraf (Neural Network) yang menggunakan metode pembelajaran Unsupervised, memetakan bobot mereka untuk menyesuaikan dengan data input yang diberikan dengan tujuan untuk mewakili data multidimensi dalam bentuk yang lebih mudah dan dapat dimengerti untuk mata manusia. (Nilai pragmatis dari merepresentasikan data kompleks)\n",
    "\n",
    "Pelatihan SOM (proses Training) tidak memerlukan vektor target. SOM belajar mengklasifikasikan data Training tanpa pengawasan eksternal."
   ]
  },
  {
   "cell_type": "markdown",
   "metadata": {},
   "source": [
    "### Problem Optimasi Jalur Salesman\n",
    "\n",
    "<img src=\"salesman_optimization.png\" width=\"80%\">\n",
    "\n",
    "melalui representasi ruang input 2 dimensi menjadi 1 dimensi agar mendapatkan jalur total destinasi terpendek\n"
   ]
  },
  {
   "cell_type": "markdown",
   "metadata": {},
   "source": [
    "### Input\n",
    "<img src=\"poverty_map_input.png\" width=\"80%\">\n",
    "\n",
    "### >>Output\n",
    "<img src=\"poverty_map1992.png\" width=\"80%\">\n",
    "\n",
    "'Peta Kemiskinan' berdasarkan 39 indikator dari statistik Bank Dunia (1992)"
   ]
  },
  {
   "cell_type": "markdown",
   "metadata": {},
   "source": [
    "### Largest Document Collection (Koleksi Dokumen Terbesar)\n",
    "\n",
    "- Tujuan\n",
    "Pengaturan koleksi dokumen besar sesuai dengan kesamaan tekstual.\n",
    "\n",
    "Mesin pencari.\n",
    "\n",
    "Alat yang berguna untuk mencari dan menjelajahi koleksi dokumen besar.\n",
    "\n",
    "- Solusi\n",
    "Peta yang mengatur diri sendiri (SOM)\n",
    "Pengelompokkan dokumen yang serupa bersama-sama\n",
    "\n",
    "Interaktif dan mudah diinterpretasikan \n",
    "\n",
    "Memfasilitasi Data mining\n",
    "\n",
    "- Implementasi nyata\n",
    "WEBSOM (1996)\n",
    "Klasifikasi ~ 5000 dokumen\n",
    "SOM dengan \"histogram vektor\"\n",
    "Bobot Vektor berdasarkan kumpulan kata-kata yang kosakata dan dimensionalitasnya dikontrol secara manual\n",
    "\n",
    "- Masalah\n",
    "Dimensi vektor besar diperlukan untuk mengklasifikasikan koleksi dokumen yang sangat besar\n",
    "Bertujuan untuk mengklasifikasikan ~ 7.000.000 paten abstrak\n",
    "\n",
    "- tujuan\n",
    "Mengurangi dimensionalitas vektor histogram\n",
    "Penelitian untuk mencari shortcut Algoritma untuk meningkatkan waktu komputasi \n",
    "Menjaga akurasi klasifikasi\n",
    "\n",
    "- Hasilnya\n",
    "\n",
    "<img src=\"websom.jpg\" width=\"80%\">\n",
    "\n",
    "- kesimpulan\n",
    "\n",
    "SOM dapat dioptimalkan untuk memetakan koleksi dokumen besar tanpa kehilangan banyak dalam akurasi klasifikasi"
   ]
  },
  {
   "cell_type": "code",
   "execution_count": null,
   "metadata": {},
   "outputs": [],
   "source": []
  }
 ],
 "metadata": {
  "kernelspec": {
   "display_name": "Python 3",
   "language": "python",
   "name": "python3"
  },
  "language_info": {
   "codemirror_mode": {
    "name": "ipython",
    "version": 3
   },
   "file_extension": ".py",
   "mimetype": "text/x-python",
   "name": "python",
   "nbconvert_exporter": "python",
   "pygments_lexer": "ipython3",
   "version": "3.6.5"
  }
 },
 "nbformat": 4,
 "nbformat_minor": 2
}
